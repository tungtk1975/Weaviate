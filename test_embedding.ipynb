{
 "cells": [
  {
   "cell_type": "code",
   "execution_count": null,
   "metadata": {},
   "outputs": [],
   "source": [
    "#Install first run only\n",
    "\n",
    "!pip install weaviate-client\n",
    "!pip install weaviate-client python-docx PyPDF2\n"
   ]
  },
  {
   "cell_type": "code",
   "execution_count": 1,
   "metadata": {},
   "outputs": [],
   "source": [
    "# Connect to the weaviate server on Mac Studio\n",
    "import os\n",
    "import weaviate\n",
    "import docx\n",
    "# Bạn sẽ cần cài đặt thư viện bổ sung để xử lý tệp PDF, ví dụ: PyPDF2 hoặc pdfminer.six\n",
    "\n",
    "# Chi tiết về địa chỉ Weaviate\n",
    "weaviate_url = \"http://192.168.1.86:8080\"\n"
   ]
  },
  {
   "cell_type": "markdown",
   "metadata": {},
   "source": [
    "# The following code embeds txt and doc files into the Weaviate server with the class name 'Documents' and properties 'content' and 'document_name'.\n",
    "# It embeds files selected from the data folder, which is located in the same folder as this ipynb file."
   ]
  },
  {
   "cell_type": "code",
   "execution_count": 2,
   "metadata": {},
   "outputs": [
    {
     "name": "stdout",
     "output_type": "stream",
     "text": [
      "Loại tệp không được hỗ trợ: \n",
      "Tệp data/CV_cat_dien_12_2023.docx đã được nhúng thành công.\n",
      "Tệp data/Ho_Chi_Minh.txt đã được nhúng thành công.\n"
     ]
    }
   ],
   "source": [
    "\n",
    "try:\n",
    "    weaviate_client = weaviate.Client(url=weaviate_url)\n",
    "\n",
    "    # Định nghĩa schema cho tài liệu của bạn\n",
    "    schema = {\n",
    "        \"classes\": [{\n",
    "            \"class\": \"Document\",\n",
    "            \"properties\": [{\n",
    "                \"name\": \"text\",\n",
    "                \"dataType\": [\"text\"],\n",
    "                \"vectorizer\": \"text2vec-contextionary\"\n",
    "            }, {\n",
    "                \"name\": \"filename\",\n",
    "                \"dataType\": [\"string\"]\n",
    "            }]\n",
    "        }]\n",
    "    }\n",
    "    weaviate_client.schema.create(schema)\n",
    "\n",
    "except Exception as e:\n",
    "    print(f\"Không thể kết nối đến Weaviate. Vui lòng kiểm tra URL và kết nối mạng của bạn. Lỗi: {e}\")\n",
    "    exit()\n",
    "\n",
    "# Hàm trích xuất văn bản từ tệp\n",
    "def extract_text_from_file(file_path):\n",
    "    file_extension = os.path.splitext(file_path)[1].lower()\n",
    "\n",
    "    if file_extension == \".txt\":\n",
    "        with open(file_path, \"r\", encoding=\"utf-8\") as file:\n",
    "            return file.read()\n",
    "    elif file_extension == \".docx\":\n",
    "        doc = docx.Document(file_path)\n",
    "        full_text = [para.text for para in doc.paragraphs]\n",
    "        return '\\n'.join(full_text)\n",
    "    elif file_extension == \".pdf\":\n",
    "        # Thực hiện logic trích xuất văn bản từ tệp PDF ở đây\n",
    "        return \"Nội dung từ tệp pdf\"\n",
    "    else:\n",
    "        print(f\"Loại tệp không được hỗ trợ: {file_extension}\")\n",
    "        return None\n",
    "\n",
    "# Hàm nhúng tài liệu vào Weaviate\n",
    "def embed_files_in_weaviate(file_paths):\n",
    "    for file_path in file_paths:\n",
    "        try:\n",
    "            file_content = extract_text_from_file(file_path)\n",
    "            if file_content is None:\n",
    "                continue\n",
    "\n",
    "            # Tạo một đối tượng dữ liệu\n",
    "            data_object = {\n",
    "                \"text\": file_content,\n",
    "                \"filename\": os.path.basename(file_path)\n",
    "            }\n",
    "\n",
    "            # Xác định tên lớp (cập nhật theo schema của bạn trong Weaviate)\n",
    "            class_name = \"Document\"\n",
    "\n",
    "            # Thêm đối tượng dữ liệu vào Weaviate\n",
    "            weaviate_client.data_object.create(data_object, class_name=class_name)\n",
    "\n",
    "            print(f\"Tệp {file_path} đã được nhúng thành công.\")\n",
    "\n",
    "        except Exception as e:\n",
    "            print(f\"Lỗi khi nhúng tệp {file_path}: {e}\")\n",
    "\n",
    "# Chỉ định đường dẫn thư mục chứa dữ liệu\n",
    "data_folder_path = \"data\"  # Cập nhật với đường dẫn thư mục dữ liệu của bạn\n",
    "\n",
    "# Lấy danh sách tất cả các tệp trong thư mục dữ liệu\n",
    "file_paths_to_embed = [os.path.join(data_folder_path, file) for file in os.listdir(data_folder_path) if os.path.isfile(os.path.join(data_folder_path, file))]\n",
    "\n",
    "# Nhúng các tệp vào Weaviate\n",
    "embed_files_in_weaviate(file_paths_to_embed)\n"
   ]
  },
  {
   "cell_type": "markdown",
   "metadata": {},
   "source": [
    "------------- The code below has the purpose of deleting the class created in the previous step ----------------------"
   ]
  },
  {
   "cell_type": "code",
   "execution_count": 1,
   "metadata": {},
   "outputs": [],
   "source": [
    "# Connect to the Weaviate server on Mac Studio. Skip this step if you have already done so.\n",
    "\n",
    "import weaviate\n",
    "\n",
    "# Weaviate instance details\n",
    "weaviate_url = \"http://192.168.1.86:8080\"\n",
    "weaviate_client = weaviate.Client(url=weaviate_url)"
   ]
  },
  {
   "cell_type": "code",
   "execution_count": 2,
   "metadata": {},
   "outputs": [],
   "source": [
    "# Specify the class name you want to delete. Note that the class name has to be created beforehand.\n",
    "class_name = \"Document\""
   ]
  },
  {
   "cell_type": "code",
   "execution_count": 4,
   "metadata": {},
   "outputs": [
    {
     "name": "stdout",
     "output_type": "stream",
     "text": [
      "Error retrieving or deleting objects of class Document: argument of type 'NoneType' is not iterable\n",
      "Class Document deleted successfully.\n"
     ]
    }
   ],
   "source": [
    "\n",
    "# Retrieve and delete all objects of the specified class\n",
    "try:\n",
    "    # Retrieve all objects in the class\n",
    "    response = weaviate_client.data_object.get(\n",
    "        class_name=class_name, \n",
    "        limit=100  # Adjust the limit based on your expected number of objects\n",
    "    )\n",
    "\n",
    "    # Check if 'objects' key is in response\n",
    "    if 'objects' in response:\n",
    "        objects = response['objects']\n",
    "\n",
    "        # Iterate and delete each object using its UUID\n",
    "        for obj in objects:\n",
    "            uuid = obj[\"id\"]\n",
    "            weaviate_client.data_object.delete(class_name=class_name, uuid=uuid)\n",
    "\n",
    "        print(f\"All objects of class {class_name} deleted successfully.\")\n",
    "    else:\n",
    "        print(\"No 'objects' key found in response.\")\n",
    "except Exception as e:\n",
    "    print(f\"Error retrieving or deleting objects of class {class_name}: {e}\")\n",
    "\n",
    "# Delete the class itself\n",
    "try:\n",
    "    weaviate_client.schema.delete_class(class_name)\n",
    "    print(f\"Class {class_name} deleted successfully.\")\n",
    "except Exception as e:\n",
    "    print(f\"Error deleting class {class_name}: {e}\")\n"
   ]
  }
 ],
 "metadata": {
  "kernelspec": {
   "display_name": "tungtk",
   "language": "python",
   "name": "python3"
  },
  "language_info": {
   "codemirror_mode": {
    "name": "ipython",
    "version": 3
   },
   "file_extension": ".py",
   "mimetype": "text/x-python",
   "name": "python",
   "nbconvert_exporter": "python",
   "pygments_lexer": "ipython3",
   "version": "3.10.13"
  }
 },
 "nbformat": 4,
 "nbformat_minor": 2
}
